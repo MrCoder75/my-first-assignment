{
 "cells": [
  {
   "cell_type": "code",
   "execution_count": 6,
   "metadata": {},
   "outputs": [
    {
     "name": "stdout",
     "output_type": "stream",
     "text": [
      "Odd\n"
     ]
    }
   ],
   "source": [
    "#To check number of divisors without builtin function\n",
    "def rt(n):\n",
    "    if n < 1:\n",
    "        return\n",
    "    root_n = n**0.5\n",
    "    if root_n**2 == n:\n",
    "            print ('Odd')\n",
    "    else:\n",
    "            return ('Even')\n",
    "rt(4)"
   ]
  },
  {
   "cell_type": "code",
   "execution_count": 5,
   "metadata": {},
   "outputs": [
    {
     "name": "stdout",
     "output_type": "stream",
     "text": [
      "Even\n"
     ]
    }
   ],
   "source": [
    "#to check number of divisors with builtin function\n",
    "import math\n",
    "def countDivisors(n):\n",
    "    count = 0\n",
    "    for i in range(1, (int)(math.sqrt(n)) +2):\n",
    "        if (n % i == 0):\n",
    "            if(n//i == i):\n",
    "                count = count +1\n",
    "            else:\n",
    "                count = count +2\n",
    "    if (count % 2 == 0):\n",
    "        print(\"Even\")\n",
    "    else:\n",
    "        print(\"Odd\")\n",
    "countDivisors(19)"
   ]
  },
  {
   "cell_type": "code",
   "execution_count": 7,
   "metadata": {},
   "outputs": [
    {
     "data": {
      "text/plain": [
       "False"
      ]
     },
     "execution_count": 7,
     "metadata": {},
     "output_type": "execute_result"
    }
   ],
   "source": [
    "n=number_of_lockers\n",
    "def divn(number_of_lockers):\n",
    "    if n < 1:\n",
    "        return\n",
    "    fac_n = n**0.5\n",
    "    if fac_n**2 == n:\n",
    "            #print ('Odd')\n",
    "            return False\n",
    "    else:\n",
    "            #print ('Even')\n",
    "            return True\n",
    "m=number_of_students\n",
    "def divm(number_of_students):\n",
    "    if m < 1:\n",
    "        return\n",
    "    fac_m = m**0.5\n",
    "    if fac_m**2 == m:\n",
    "            #print ('Odd')\n",
    "            return False\n",
    "    else:\n",
    "            #print ('Even')\n",
    "            return True\n",
    "def openLocks(number_of_lockers , number_of_students):\n",
    "    for i in range(1, n+1):\n",
    "        if divn(i) == True and divm(i) == True\n",
    "            return \"Closed\"\n",
    "        else:\n",
    "            return \"Opened\"\n"
   ]
  },
  {
   "cell_type": "code",
   "execution_count": null,
   "metadata": {},
   "outputs": [],
   "source": [
    "import math\n",
    "n=number_of_lockers\n",
    "def divn(n):\n",
    "    count = 0\n",
    "    for i in range(1, (int)(math.sqrt(n)) +2):\n",
    "        if (n % i == 0):\n",
    "            if(n//i == i):\n",
    "                count = count +1\n",
    "            else:\n",
    "                count = count +2\n",
    "    if (count % 2 == 0):\n",
    "        #print(\"Even\")\n",
    "        return True\n",
    "    else:\n",
    "        #print(\"Odd\")\n",
    "        return False\n",
    "countDivisors(19)\n",
    "m=number_of_students\n",
    "def divm(m):\n",
    "    count = 0\n",
    "    for i in range(1, (int)(math.sqrt(m)) +2):\n",
    "        if (m % i == 0):\n",
    "            if(m//i == i):\n",
    "                count = count +1\n",
    "            else:\n",
    "                count = count +2\n",
    "    if (count % 2 == 0):\n",
    "        #print(\"Even\")\n",
    "        return True\n",
    "    else:\n",
    "        #print(\"Odd\")\n",
    "        return False\n",
    "def openLocks(number_of_lockers , number_of_students):\n",
    "    for i in range(1, n+1):\n",
    "        if divn(i) == True and divm(i) == True\n",
    "            return \"Closed\"\n",
    "        else:\n",
    "            return \"Opened\"\n",
    "openLocks(80,70)\n"
   ]
  },
  {
   "cell_type": "code",
   "execution_count": null,
   "metadata": {},
   "outputs": [],
   "source": []
  }
 ],
 "metadata": {
  "kernelspec": {
   "display_name": "Python 3",
   "language": "python",
   "name": "python3"
  },
  "language_info": {
   "codemirror_mode": {
    "name": "ipython",
    "version": 3
   },
   "file_extension": ".py",
   "mimetype": "text/x-python",
   "name": "python",
   "nbconvert_exporter": "python",
   "pygments_lexer": "ipython3",
   "version": "3.7.3"
  }
 },
 "nbformat": 4,
 "nbformat_minor": 2
}
